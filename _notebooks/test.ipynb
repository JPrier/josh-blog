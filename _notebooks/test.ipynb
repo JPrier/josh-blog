{
 "cells": [
  {
   "cell_type": "markdown",
   "id": "reduced-instrument",
   "metadata": {},
   "source": [
    "# \"Test\"\n",
    "> \"Attempts to get plotly to work with fastai blogs\"\n",
    "\n",
    "- toc: true\n",
    "- branch: master\n",
    "- badges: true\n",
    "- comments: true\n",
    "- author: Josh Prier\n",
    "- categories: [Test]\n",
    "- use_plotly: true"
   ]
  },
  {
   "cell_type": "code",
   "execution_count": 6,
   "id": "suffering-trail",
   "metadata": {
    "scrolled": false
   },
   "outputs": [],
   "source": [
    "# import plotly.express as px\n",
    "\n",
    "# gapminder = px.data.gapminder()\n",
    "\n",
    "# fig = px.violin(\n",
    "#     gapminder,\n",
    "#     x=\"continent\",\n",
    "#     y=\"lifeExp\",\n",
    "#     color=\"continent\",\n",
    "#     labels={\"lifeExp\": \"life expectancy at birth\"},\n",
    "# )\n",
    "# fig.update_layout(showlegend=False)"
   ]
  },
  {
   "cell_type": "code",
   "execution_count": null,
   "id": "advisory-exchange",
   "metadata": {},
   "outputs": [],
   "source": []
  }
 ],
 "metadata": {
  "kernelspec": {
   "display_name": "Python 3",
   "language": "python",
   "name": "python3"
  },
  "language_info": {
   "codemirror_mode": {
    "name": "ipython",
    "version": 3
   },
   "file_extension": ".py",
   "mimetype": "text/x-python",
   "name": "python",
   "nbconvert_exporter": "python",
   "pygments_lexer": "ipython3",
   "version": "3.9.1"
  }
 },
 "nbformat": 4,
 "nbformat_minor": 5
}
