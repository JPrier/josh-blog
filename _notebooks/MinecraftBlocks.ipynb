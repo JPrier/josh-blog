{
 "cells": [
  {
   "cell_type": "markdown",
   "metadata": {},
   "source": [
    "# \"Understanding The Data -- Minecraft Mining\"\n",
    "> \"A Deep Dive into the Distribution of Blocks in Minecraft\"\n",
    "\n",
    "- toc: true\n",
    "- branch: master\n",
    "- badges: true\n",
    "- comments: true\n",
    "- author: Josh Prier\n",
    "- categories: [Minecraft, Understanding The Data, Data Science]"
   ]
  },
  {
   "cell_type": "markdown",
   "metadata": {},
   "source": [
    "## What is the Optimal Method to Mine in Minecraft\n",
    "\n",
    "To answer this question we must first collect data. To do this I created a minecraft mod that randomly teleports the player, samples a 500x50x500 (X,Y,Z) set of blocks around the player and logs those blocks into a csv. It repeats this a total of 10 times creating 10 samples of 500x50x500 blocks\n",
    "\n",
    "The mod can be seen here: https://github.com/JPrier/MinecraftBlocksDistribution"
   ]
  },
  {
   "cell_type": "markdown",
   "metadata": {},
   "source": [
    "### Data\n",
    "Here we will use Pandas to read in the data to be used to visualize distributions."
   ]
  },
  {
   "cell_type": "code",
   "execution_count": 1,
   "metadata": {},
   "outputs": [],
   "source": [
    "#collapse-hide\n",
    "import pandas as pd\n",
    "import matplotlib.pyplot as plt"
   ]
  },
  {
   "cell_type": "code",
   "execution_count": 2,
   "metadata": {},
   "outputs": [
    {
     "name": "stdout",
     "output_type": "stream",
     "text": [
      "               X   Y      Z    Block  sample  playerX  playerY  playerZ\n",
      "0          -5831   0   6935  bedrock       0  -5581.0     50.0   7185.0\n",
      "1          -5830   0   6935  bedrock       0  -5581.0     50.0   7185.0\n",
      "2          -5829   0   6935  bedrock       0  -5581.0     50.0   7185.0\n",
      "3          -5828   0   6935  bedrock       0  -5581.0     50.0   7185.0\n",
      "4          -5827   0   6935  bedrock       0  -5581.0     50.0   7185.0\n",
      "...          ...  ..    ...      ...     ...      ...      ...      ...\n",
      "128010505  13966  50 -10793    water       9  13720.0     50.0 -11043.0\n",
      "128010506  13967  50 -10793    water       9  13720.0     50.0 -11043.0\n",
      "128010507  13968  50 -10793    water       9  13720.0     50.0 -11043.0\n",
      "128010508  13969  50 -10793    water       9  13720.0     50.0 -11043.0\n",
      "128010509  13970  50 -10793    water       9  13720.0     50.0 -11043.0\n",
      "\n",
      "[128010510 rows x 8 columns]\n"
     ]
    }
   ],
   "source": [
    "df = pd.read_csv('./distributionLogs/3122-data.csv', error_bad_lines=False)\n",
    "with pd.option_context('display.max_rows', 10, 'display.max_columns', None):\n",
    "    print(df)"
   ]
  },
  {
   "cell_type": "markdown",
   "metadata": {},
   "source": [
    "## Visualize Distributions\n",
    "Here we want to visualize the blocks and their frequency"
   ]
  },
  {
   "cell_type": "code",
   "execution_count": 3,
   "metadata": {},
   "outputs": [
    {
     "name": "stdout",
     "output_type": "stream",
     "text": [
      "['bedrock' 'stone' 'iron_ore' 'dirt' 'diorite' 'granite' 'andesite' 'lava'\n",
      " 'coal_ore' 'redstone_ore' 'gravel' 'diamond_ore' 'lapis_ore' 'cave_air'\n",
      " 'gold_ore' 'infested_stone' 'emerald_ore' 'water' 'oak_fence'\n",
      " 'oak_planks' 'tall_grass' 'cobweb' 'rail' 'wall_torch' 'spawner'\n",
      " 'brown_mushroom' 'azure_bluet' 'mossy_cobblestone' 'cobblestone' 'chest'\n",
      " 'large_fern' 'sugar_cane' 'red_mushroom' 'poppy' 'dandelion' 'netherrack'\n",
      " 'magma_block' 'stone_brick_stairs' 'stone_brick_slab' 'air'\n",
      " 'cracked_stone_bricks' 'stone_bricks' 'stone_brick_wall' 'obsidian'\n",
      " 'crying_obsidian' 'gold_block' 'chiseled_stone_bricks'\n",
      " 'mossy_stone_brick_wall' 'rose_bush' 'bone_block' 'sandstone' 'sand'\n",
      " 'tall_seagrass' 'seagrass' 'kelp_plant' 'kelp' 'mossy_stone_bricks'\n",
      " 'sea_lantern' 'blue_orchid' 'clay' 'peony' 'lilac' 'cut_sandstone'\n",
      " 'polished_granite' 'mossy_stone_brick_slab' 'mossy_stone_brick_stairs'\n",
      " 'bricks' 'dark_oak_planks' 'spruce_planks' 'oak_stairs' 'spruce_fence'\n",
      " 'spruce_stairs' 'oak_log' 'oak_trapdoor' 'dark_oak_stairs'\n",
      " 'dark_oak_fence' 'spruce_log' 'spruce_trapdoor' 'cornflower']\n"
     ]
    }
   ],
   "source": [
    "# Set dict of all blocks\n",
    "block_dict = {}\n",
    "print(df['Block'].unique())"
   ]
  },
  {
   "cell_type": "code",
   "execution_count": 7,
   "metadata": {},
   "outputs": [
    {
     "name": "stdout",
     "output_type": "stream",
     "text": [
      "Index(['X', 'Y', 'Z', 'Block', 'sample', 'playerX', 'playerY', 'playerZ'], dtype='object')\n",
      "3043         3199\n",
      "3044         3199\n",
      "4186         3198\n",
      "4187         3198\n",
      "5716         2940\n",
      "             ... \n",
      "127966198    2914\n",
      "127989151    3198\n",
      "127989652    3057\n",
      "127991249    3054\n",
      "127991749    2914\n",
      "Name: Y, Length: 35319, dtype: int64\n",
      "               X   Y      Z        Block  sample  playerX  playerY  playerZ  \\\n",
      "3043       -5794   6   6935  diamond_ore       0  -5581.0     50.0   7185.0   \n",
      "3044       -5793   6   6935  diamond_ore       0  -5581.0     50.0   7185.0   \n",
      "4186       -5653   8   6935  diamond_ore       0  -5581.0     50.0   7185.0   \n",
      "4187       -5652   8   6935  diamond_ore       0  -5581.0     50.0   7185.0   \n",
      "5716       -5626  11   6935  diamond_ore       0  -5581.0     50.0   7185.0   \n",
      "...          ...  ..    ...          ...     ...      ...      ...      ...   \n",
      "127966198  13747  13 -10794  diamond_ore       9  13720.0     50.0 -11043.0   \n",
      "127989151  13654   8 -10793  diamond_ore       9  13720.0     50.0 -11043.0   \n",
      "127989652  13654   9 -10793  diamond_ore       9  13720.0     50.0 -11043.0   \n",
      "127991249  13748  12 -10793  diamond_ore       9  13720.0     50.0 -11043.0   \n",
      "127991749  13747  13 -10793  diamond_ore       9  13720.0     50.0 -11043.0   \n",
      "\n",
      "           YBlockFreq  \n",
      "3043             3199  \n",
      "3044             3199  \n",
      "4186             3198  \n",
      "4187             3198  \n",
      "5716             2940  \n",
      "...               ...  \n",
      "127966198        2914  \n",
      "127989151        3198  \n",
      "127989652        3057  \n",
      "127991249        3054  \n",
      "127991749        2914  \n",
      "\n",
      "[35319 rows x 9 columns]\n",
      "Index(['X', 'Y', 'Z', 'Block', 'sample', 'playerX', 'playerY', 'playerZ',\n",
      "       'YBlockFreq'],\n",
      "      dtype='object')\n"
     ]
    },
    {
     "name": "stderr",
     "output_type": "stream",
     "text": [
      "c:\\users\\jkpri\\appdata\\local\\programs\\python\\python36\\lib\\site-packages\\ipykernel_launcher.py:6: SettingWithCopyWarning: \n",
      "A value is trying to be set on a copy of a slice from a DataFrame.\n",
      "Try using .loc[row_indexer,col_indexer] = value instead\n",
      "\n",
      "See the caveats in the documentation: https://pandas.pydata.org/pandas-docs/stable/user_guide/indexing.html#returning-a-view-versus-a-copy\n",
      "  \n"
     ]
    }
   ],
   "source": [
    "# Get frequency of given block from Y value\n",
    "print(df.keys())\n",
    "df_block = df.loc[df['Block'] == 'diamond_ore']#.set_index(['Y']).count(level='Y')\n",
    "with pd.option_context('display.max_rows', 10, 'display.max_columns', None):\n",
    "    print(df_block.groupby('Y')['Y'].transform('count'))\n",
    "df_block['YBlockFreq'] = df_block.groupby('Y')['Y'].transform('count')\n",
    "\n",
    "# iterate through Ys and grab YBlockFreq\n",
    "y_list = df_block['Y'].unique()\n",
    "for y in y_list:\n",
    "    pass\n",
    "\n",
    "with pd.option_context('display.max_rows', 10, 'display.max_columns', None):\n",
    "    print(df_block)\n",
    "    print(df_block.keys())\n",
    "    \n",
    "# block_dict['diamond_ore'] = df_block"
   ]
  },
  {
   "cell_type": "code",
   "execution_count": 6,
   "metadata": {},
   "outputs": [
    {
     "data": {
      "text/plain": [
       "[]"
      ]
     },
     "execution_count": 6,
     "metadata": {},
     "output_type": "execute_result"
    },
    {
     "data": {
      "image/png": "[encoded data removed]",
      "text/plain": [
       "<Figure size 432x288 with 1 Axes>"
      ]
     },
     "metadata": {
      "needs_background": "light"
     },
     "output_type": "display_data"
    }
   ],
   "source": [
    "# Create distribution plots of block vs Y level\n",
    "df_block.plot.bar(x='Y', y='YBlockFreq')\n",
    "# Create HeatMaps of blocks with X-Z, X-Y, Y-Z, and 3d X-Y-Z\n",
    "\n",
    "plt.plot()"
   ]
  },
  {
   "cell_type": "markdown",
   "metadata": {},
   "source": [
    "## What is the best method\n",
    "Now that we have the data and have seen the distributions of blocks through our samples lets see how different methods of mining do.\n",
    "\n",
    "#### Calculating the best method\n",
    "We will compare each of the methods based on these data points:\n",
    "* Number of blocks mined\n",
    "* Number of desired blocks mined\n",
    "\n",
    "#### TODO (What to figure out)\n",
    "* Should methods be done on every level and each be compared?\n",
    "* If a player sees diamonds they will mine all of them, need to grab all visible ore"
   ]
  },
  {
   "cell_type": "code",
   "execution_count": null,
   "metadata": {},
   "outputs": [],
   "source": [
    "# TODO\n",
    "# Starting from the player calculate each of the methods at different starting levels. save each into a dataframe\n",
    "def strip_mining():\n",
    "    # +250X @ Y, Y+1, -250X @ Y, Y+1 -- repeat for +2Z, -2Z\n",
    "    # \n",
    "    # Get range of coords. Should be an O(1) process by just selecting a set of blocks from coords given the player's starting location\n",
    "    #\n",
    "    # Create tuples [X, Y, Z] and get the blocks at those coords. Need to also grab all \"visible\" blocks (need a method to \"mine\")\n",
    "    #\n",
    "    #\n",
    "    # Strip 1 xRange = [0, 250], yRange = [0, 1], zRange = [0]\n",
    "    # repeat each 3 Z s.t. there are 2 blocks in between strips\n",
    "    # Need zRange = [0, 3, 6, 9, ..., Z<=250]\n",
    "    pass\n",
    "    \n",
    "# Calculate the frequency of blocks seen with each method at different levels\n",
    "# Show the \"Scores\""
   ]
  }
 ],
 "metadata": {
  "kernelspec": {
   "display_name": "Python 3",
   "language": "python",
   "name": "python3"
  },
  "language_info": {
   "codemirror_mode": {
    "name": "ipython",
    "version": 3
   },
   "file_extension": ".py",
   "mimetype": "text/x-python",
   "name": "python",
   "nbconvert_exporter": "python",
   "pygments_lexer": "ipython3",
   "version": "3.6.8"
  }
 },
 "nbformat": 4,
 "nbformat_minor": 4
}
