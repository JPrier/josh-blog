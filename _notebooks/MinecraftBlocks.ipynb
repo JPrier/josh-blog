{
 "cells": [
  {
   "cell_type": "markdown",
   "metadata": {},
   "source": [
    "# \"Understanding The Data -- Minecraft Mining\"\n",
    "> \"A Deep Dive into the Distribution of Blocks in Minecraft\"\n",
    "\n",
    "- toc: true\n",
    "- branch: master\n",
    "- badges: true\n",
    "- comments: true\n",
    "- author: Josh Prier\n",
    "- categories: [Minecraft, Understanding The Data, Data Science]"
   ]
  },
  {
   "cell_type": "markdown",
   "metadata": {},
   "source": [
    "## What is the Optimal Method to Mine in Minecraft\n",
    "\n",
    "To answer this question we must first collect data. To do this I created a minecraft mod that randomly teleports the player, samples a 500x50x500 (X,Y,Z) set of blocks around the player and logs those blocks into a csv. It repeats this a total of 10 times creating 10 samples of 500x50x500 blocks\n",
    "\n",
    "The mod can be seen here: https://github.com/JPrier/MinecraftBlocksDistribution"
   ]
  },
  {
   "cell_type": "markdown",
   "metadata": {},
   "source": [
    "### Data\n",
    "Here we will use Pandas to read in the data to be used to visualize distributions."
   ]
  },
  {
   "cell_type": "code",
   "execution_count": 4,
   "metadata": {},
   "outputs": [],
   "source": [
    "#collapse-hide\n",
    "import pandas as pd\n",
    "import matplotlib.pyplot as plt"
   ]
  },
  {
   "cell_type": "code",
   "execution_count": 5,
   "metadata": {},
   "outputs": [],
   "source": [
    "# TODO load in minecraft csv"
   ]
  },
  {
   "cell_type": "markdown",
   "metadata": {},
   "source": [
    "## Visualize Distributions\n",
    "Here we want to visualize the blocks and their frequency"
   ]
  },
  {
   "cell_type": "code",
   "execution_count": 6,
   "metadata": {},
   "outputs": [],
   "source": [
    "# TODO \n",
    "# Create distribution plots of block vs Y level\n",
    "# Create HeatMaps of blocks with X-Z, X-Y, Y-Z, and 3d X-Y-Z"
   ]
  },
  {
   "cell_type": "markdown",
   "metadata": {},
   "source": [
    "## What is the best method\n",
    "Now that we have the data and have seen the distributions of blocks through our samples lets see how different methods of mining do.\n",
    "\n",
    "#### Calculating the best method\n",
    "We will compare each of the methods based on these data points:\n",
    "* Number of blocks mined\n",
    "* Number of desired blocks mined\n",
    "\n",
    "#### TODO (What to figure out)\n",
    "* Should methods be done on every level and each be compared?\n",
    "* If a player sees diamonds they will mine all of them, need to grab all visible ore"
   ]
  },
  {
   "cell_type": "code",
   "execution_count": 7,
   "metadata": {},
   "outputs": [],
   "source": [
    "# TODO\n",
    "# Starting from the player calculate each of the methods at different starting levels. save each into a dataframe\n",
    "# Calculate the frequency of blocks seen with each method at different levels\n",
    "# Show the \"Scores\""
   ]
  },
  {
   "cell_type": "code",
   "execution_count": null,
   "metadata": {},
   "outputs": [],
   "source": []
  }
 ],
 "metadata": {
  "kernelspec": {
   "display_name": "Python 3",
   "language": "python",
   "name": "python3"
  },
  "language_info": {
   "codemirror_mode": {
    "name": "ipython",
    "version": 3
   },
   "file_extension": ".py",
   "mimetype": "text/x-python",
   "name": "python",
   "nbconvert_exporter": "python",
   "pygments_lexer": "ipython3",
   "version": "3.6.8"
  }
 },
 "nbformat": 4,
 "nbformat_minor": 4
}
