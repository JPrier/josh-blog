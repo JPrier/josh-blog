{
 "cells": [
  {
   "cell_type": "markdown",
   "metadata": {},
   "source": [
    "# \"Understanding The Data -- Minecraft Mining\"\n",
    "> \"A Deep Dive into the Distribution of Blocks in Minecraft\"\n",
    "\n",
    "- toc: true\n",
    "- branch: master\n",
    "- badges: true\n",
    "- comments: true\n",
    "- author: Josh Prier\n",
    "- categories: [Minecraft, Understanding The Data, Data Science]"
   ]
  },
  {
   "cell_type": "markdown",
   "metadata": {},
   "source": [
    "## What is the Optimal Method to Mine in Minecraft\n",
    "\n",
    "To answer this question we must first collect data. To do this I created a minecraft mod that randomly teleports the player, samples a 500x50x500 (X,Y,Z) set of blocks around the player and logs those blocks into a csv. It repeats this a total of 10 times creating 10 samples of 500x50x500 blocks\n",
    "\n",
    "The mod can be seen here: https://github.com/JPrier/MinecraftBlocksDistribution"
   ]
  },
  {
   "cell_type": "markdown",
   "metadata": {},
   "source": [
    "### Data\n",
    "Here we will use Pandas to read in the data to be used to visualize distributions."
   ]
  },
  {
   "cell_type": "code",
   "execution_count": 4,
   "metadata": {},
   "outputs": [],
   "source": [
    "#collapse-hide\n",
    "import pandas as pd\n",
    "import plotly.express as px\n",
    "from IPython.display import HTML"
   ]
  },
  {
   "cell_type": "code",
   "execution_count": 2,
   "metadata": {},
   "outputs": [
    {
     "name": "stdout",
     "output_type": "stream",
     "text": [
      "               X   Y      Z    Block  sample  playerX  playerY  playerZ\n",
      "0          -5831   0   6935  bedrock       0  -5581.0     50.0   7185.0\n",
      "1          -5830   0   6935  bedrock       0  -5581.0     50.0   7185.0\n",
      "2          -5829   0   6935  bedrock       0  -5581.0     50.0   7185.0\n",
      "3          -5828   0   6935  bedrock       0  -5581.0     50.0   7185.0\n",
      "4          -5827   0   6935  bedrock       0  -5581.0     50.0   7185.0\n",
      "...          ...  ..    ...      ...     ...      ...      ...      ...\n",
      "128010505  13966  50 -10793    water       9  13720.0     50.0 -11043.0\n",
      "128010506  13967  50 -10793    water       9  13720.0     50.0 -11043.0\n",
      "128010507  13968  50 -10793    water       9  13720.0     50.0 -11043.0\n",
      "128010508  13969  50 -10793    water       9  13720.0     50.0 -11043.0\n",
      "128010509  13970  50 -10793    water       9  13720.0     50.0 -11043.0\n",
      "\n",
      "[128010510 rows x 8 columns]\n"
     ]
    }
   ],
   "source": [
    "df = pd.read_csv('./distributionLogs/3122-data.csv', error_bad_lines=False)\n",
    "with pd.option_context('display.max_rows', 10, 'display.max_columns', None):\n",
    "    print(df)"
   ]
  },
  {
   "cell_type": "markdown",
   "metadata": {},
   "source": [
    "## Visualize Distributions\n",
    "Here we want to visualize the blocks and their frequency"
   ]
  },
  {
   "cell_type": "code",
   "execution_count": 5,
   "metadata": {},
   "outputs": [],
   "source": [
    "importantBlocks = ['coal_ore', 'gold_ore', 'iron_ore', 'diamond_ore', 'lapis_ore', 'redstone_ore', 'emerald_ore']\n",
    "df_blocks = df.loc[df['Block'].isin(importantBlocks)]\n",
    "\n",
    "# Create distribution plots of block vs Y level\n",
    "# df_blocks.hist(column='Y', by='Block', figsize=(10, 800), layout=(80,1))\n",
    "\n",
    "fig = px.histogram(df_blocks, x=\"Y\", color=\"Block\")\n",
    "HTML(fig.to_html())\n",
    "# fig.show()\n",
    "\n",
    "# Create HeatMaps of blocks with X-Z, X-Y, Y-Z, and 3d X-Y-Z\n",
    "\n",
    "# TODO: fix X and Z values s.t. the samples are shown together in heatmap\n",
    "\n",
    "fig = px.density_heatmap(df_blocks, x=\"X\", y=\"Y\")\n",
    "# fig.show()\n",
    "\n",
    "\n",
    "# plt.plot()"
   ]
  },
  {
   "cell_type": "markdown",
   "metadata": {},
   "source": [
    "## What is the best method\n",
    "Now that we have the data and have seen the distributions of blocks through our samples lets see how different methods of mining do.\n",
    "\n",
    "#### Calculating the best method\n",
    "We will compare each of the methods based on these data points:\n",
    "* Number of blocks mined\n",
    "* Number of desired blocks mined\n",
    "\n",
    "#### TODO (What to figure out)\n",
    "* Should methods be done on every level and each be compared?\n",
    "* If a player sees diamonds they will mine all of them, need to grab all visible ore"
   ]
  },
  {
   "cell_type": "code",
   "execution_count": 20,
   "metadata": {},
   "outputs": [],
   "source": [
    "# TODO\n",
    "# Starting from the player calculate each of the methods at different starting levels. save each into a dataframe\n",
    "def strip_mining():\n",
    "    # +250X @ Y, Y+1, -250X @ Y, Y+1 -- repeat for +2Z, -2Z\n",
    "    # \n",
    "    # Get range of coords. Should be an O(1) process by just selecting a set of blocks from coords given the player's starting location\n",
    "    #\n",
    "    # Create tuples [X, Y, Z] and get the blocks at those coords. Need to also grab all \"visible\" blocks (need a method to \"mine\")\n",
    "    #\n",
    "    #\n",
    "    # Strip 1 xRange = [0, 250], yRange = [0, 1], zRange = [0]\n",
    "    # repeat each 3 Z s.t. there are 2 blocks in between strips\n",
    "    # Need zRange = [0, 3, 6, 9, ..., Z<=250]\n",
    "    pass\n",
    "    \n",
    "# Calculate the frequency of blocks seen with each method at different levels\n",
    "# Show the \"Scores\""
   ]
  },
  {
   "cell_type": "code",
   "execution_count": null,
   "metadata": {},
   "outputs": [],
   "source": []
  }
 ],
 "metadata": {
  "kernelspec": {
   "display_name": "Python 3",
   "language": "python",
   "name": "python3"
  },
  "language_info": {
   "codemirror_mode": {
    "name": "ipython",
    "version": 3
   },
   "file_extension": ".py",
   "mimetype": "text/x-python",
   "name": "python",
   "nbconvert_exporter": "python",
   "pygments_lexer": "ipython3",
   "version": "3.9.1"
  }
 },
 "nbformat": 4,
 "nbformat_minor": 4
}
